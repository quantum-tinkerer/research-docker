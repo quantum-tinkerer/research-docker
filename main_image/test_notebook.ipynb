{
 "cells": [
  {
   "cell_type": "markdown",
   "id": "71892d52-95fd-4b96-881b-30af3dd803ec",
   "metadata": {},
   "source": [
    "## Test dask-qt"
   ]
  },
  {
   "cell_type": "code",
   "execution_count": null,
   "id": "45b1637c-e545-4a5a-96d8-1f81afbf65ec",
   "metadata": {},
   "outputs": [],
   "source": [
    "try:\n",
    "    from dask_quantumtinkerer import Cluster\n",
    "    import os\n",
    "    import numpy as np\n",
    "\n",
    "    def test(x):\n",
    "        return x**2\n",
    "    x = np.linspace(0, 1, 100)\n",
    "\n",
    "    with Cluster() as cluster:\n",
    "        # print('http://greatredspot.quantumtinkerer.tudelft.nl/user/'+ os.environ.get('JUPYTERHUB_USER') + '/proxy/' + \n",
    "        #       cluster.dashboard_link[17:]) \n",
    "        cluster.scale(2)\n",
    "\n",
    "        client = cluster.get_client()\n",
    "        result_ungathered = client.map(test, x)\n",
    "        result = client.gather(result_ungathered)\n",
    "\n",
    "except Exception as e:\n",
    "    print('Error occured with the dask cluster')\n",
    "    print(e)"
   ]
  },
  {
   "cell_type": "markdown",
   "id": "b270a5e9-b594-4e69-9c67-04f3c42b8fd7",
   "metadata": {},
   "source": [
    "## Test imports"
   ]
  },
  {
   "cell_type": "code",
   "execution_count": null,
   "id": "3996b452-0417-4d52-b8bc-6c7b75a57aca",
   "metadata": {},
   "outputs": [],
   "source": [
    "try:\n",
    "    import poisson\n",
    "except Exception as e:\n",
    "    print('Error occured with importing packages')\n",
    "    print(e)"
   ]
  },
  {
   "cell_type": "markdown",
   "id": "8a177c14-1a7f-41a4-8d65-4f7dbb890b6c",
   "metadata": {},
   "source": [
    "## Test widgets"
   ]
  },
  {
   "cell_type": "code",
   "execution_count": null,
   "id": "18165689-8b29-454b-951c-104c5b8dbe68",
   "metadata": {},
   "outputs": [],
   "source": [
    "# does not work, need to print warnings as well\n",
    "try:\n",
    "    %matplotlib widget\n",
    "    import matplotlib.pyplot as plt\n",
    "    import numpy as np\n",
    "    x = np.linspace(0, 1, 100)\n",
    "    y = np.sin(x)\n",
    "    plt.plot(x, y)\n",
    "    plt.show()\n",
    "except Exception as e:\n",
    "    print('Error occured with the matplotlib widget')\n",
    "    print(e)"
   ]
  }
 ],
 "metadata": {
  "kernelspec": {
   "display_name": "Python 3 (ipykernel)",
   "language": "python",
   "name": "python3"
  },
  "language_info": {
   "codemirror_mode": {
    "name": "ipython",
    "version": 3
   },
   "file_extension": ".py",
   "mimetype": "text/x-python",
   "name": "python",
   "nbconvert_exporter": "python",
   "pygments_lexer": "ipython3",
   "version": "3.10.6"
  }
 },
 "nbformat": 4,
 "nbformat_minor": 5
}
